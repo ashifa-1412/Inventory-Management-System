{
 "cells": [
  {
   "cell_type": "code",
   "execution_count": 9,
   "id": "22edaed3",
   "metadata": {},
   "outputs": [
    {
     "name": "stdout",
     "output_type": "stream",
     "text": [
      "{101: {'Pd_Name': 'Dairy Milk', 'Pd_Price': 50, 'Pd_GST_amt': 9, 'Pd_Quantity': 25, 'Expiry_Date': '06-10-2021'}, 102: {'Pd_Name': '5star', 'Pd_Price': 10, 'Pd_GST_amt': 1.8, 'Pd_Quantity': 50, 'Expiry_Date': '06-10-2021'}, 103: {'Pd_Name': 'Kit Kat', 'Pd_Price': 25, 'Pd_GST_amt': 4.5, 'Pd_Quantity': 35, 'Expiry_Date': '06-10-2021'}, 104: {'Pd_Name': 'Pen', 'Pd_Price': 5, 'Pd_GST_amt': 0.75, 'Pd_Quantity': 55, 'Expiry_Date': '06-10-2022'}, 105: {'Pd_Name': 'Pencil', 'Pd_Price': 7, 'Pd_GST_amt': 1.05, 'Pd_Quantity': 60, 'Expiry_Date': '06-10-2022'}, 106: {'Pd_Name': 'Pencil', 'Pd_Price': 7, 'Pd_GST_amt': 1.05, 'Pd_Quantity': 60, 'Expiry_Date': '06-10-2022'}, 107: {'Pd_Name': 'Scale', 'Pd_Price': 12, 'Pd_GST_amt': 1.8, 'Pd_Quantity': 35, 'Expiry_Date': '06-10-2022'}, 108: {'Pd_Name': 'Tomato Sauce', 'Pd_Price': 100, 'Pd_GST_amt': 20, 'Pd_Quantity': 20, 'Expiry_Date': '06-10-2021'}, 109: {'Pd_Name': 'Biscuits', 'Pd_Price': 15, 'Pd_GST_amt': 2.7, 'Pd_Quantity': 35, 'Expiry_Date': '06-10-2021'}, 110: {'Pd_Name': 'Salt', 'Pd_Price': 25, 'Pd_GST_amt': 3.75, 'Pd_Quantity': 35, 'Expiry_Date': '06-10-2021'}, 111: {'Pd_Name': 'Pepper Powder', 'Pd_Price': 25, 'Pd_GST_amt': 3.75, 'Pd_Quantity': 25, 'Expiry_Date': '06-10-2021'}, 112: {'Pd_Name': 'Dairy Milk', 'Pd_Price': 25, 'Pd_GST_amt': 4.5, 'Pd_Quantity': 50, 'Expiry_Date': '06-10-2021'}, 113: {'Pd_Name': '5star', 'Pd_Price': 5, 'Pd_GST_amt': 0.75, 'Pd_Quantity': 50, 'Expiry_Date': '06-10-2021'}, 114: {'Pd_Name': 'Kit Kat', 'Pd_Price': 15, 'Pd_GST_amt': 2.7, 'Pd_Quantity': 20, 'Expiry_Date': '06-10-2021'}, 115: {'Pd_Name': 'Chocos', 'Pd_Price': 10, 'Pd_GST_amt': 1.8, 'Pd_Quantity': 25, 'Expiry_Date': '06-10-2021'}, 116: {'Pd_Name': 'Stick Pen', 'Pd_Price': 20, 'Pd_GST_amt': 3.0, 'Pd_Quantity': 25, 'Expiry_Date': '06-10-2022'}, 117: {'Pd_Name': 'Dove Soap', 'Pd_Price': 40, 'Pd_GST_amt': 7.6, 'Pd_Quantity': 15, 'Expiry_Date': '06-05-2022'}, 118: {'Pd_Name': 'Lux Soap', 'Pd_Price': 35, 'Pd_GST_amt': 6.65, 'Pd_Quantity': 15, 'Expiry_Date': '06-05-2022'}, 119: {'Pd_Name': 'Pears Soap', 'Pd_Price': 35, 'Pd_GST_amt': 6.65, 'Pd_Quantity': 0, 'Expiry_Date': '06-05-2022'}, 120: {'Pd_Name': 'Lifeboy Soap', 'Pd_Price': 25, 'Pd_GST_amt': 4.45, 'Pd_Quantity': 5, 'Expiry_Date': '06-05-2022'}, 121: {'Pd_Name': 'Dove Shampoo', 'Pd_Price': 75, 'Pd_GST_amt': 15.75, 'Pd_Quantity': 0, 'Expiry_Date': '06-10-2022'}, 122: {'Pd_Name': 'Tresemme Shampoo', 'Pd_Price': 75, 'Pd_GST_amt': 15.75, 'Pd_Quantity': 3, 'Expiry_Date': '06-10-2022'}, 123: {'Pd_Name': 'Kurkure', 'Pd_Price': 5, 'Pd_GST_amt': 0.25, 'Pd_Quantity': 25, 'Expiry_Date': '06-10-2021'}, 124: {'Pd_Name': 'Lays', 'Pd_Price': 5, 'Pd_GST_amt': 0.25, 'Pd_Quantity': 25, 'Expiry_Date': '06-10-2021'}, 125: {'Pd_Name': 'Ponds Powder', 'Pd_Price': 75, 'Pd_GST_amt': 15.75, 'Pd_Quantity': 2, 'Expiry_Date': '06-10-2022'}, 126: {'Pd_Name': 'Compact Powder', 'Pd_Price': 115, 'Pd_GST_amt': 24.15, 'Pd_Quantity': 0, 'Expiry_Date': '06-10-2022'}, 127: {'Pd_Name': 'Coco Cola', 'Pd_Price': 25, 'Pd_GST_amt': 4.5, 'Pd_Quantity': 5, 'Expiry_Date': '06-06-2022'}, 128: {'Pd_Name': 'Sprite', 'Pd_Price': 35, 'Pd_GST_amt': 6.3, 'Pd_Quantity': 0, 'Expiry_Date': '06-06-2022'}, 129: {'Pd_Name': '7UP', 'Pd_Price': 20, 'Pd_GST_amt': 3.6, 'Pd_Quantity': 5, 'Expiry_Date': '06-06-2022'}, 130: {'Pd_Name': 'Fanta', 'Pd_Price': 40, 'Pd_GST_amt': 7.2, 'Pd_Quantity': 3, 'Expiry_Date': '06-06-2022'}}\n"
     ]
    }
   ],
   "source": [
    "items = { 101 : {\"Pd_Name\" : \"Dairy Milk\" , \"Pd_Price\" : 50 , \"Pd_GST_amt\" : 9 , \"Pd_Quantity\" : 25 , \"Expiry_Date\" : \"06-10-2021\" },\n",
    "  102 : {\"Pd_Name\" : \"5star\" , \"Pd_Price\" : 10 , \"Pd_GST_amt\" : 1.80 , \"Pd_Quantity\" : 50 , \"Expiry_Date\" : \"06-10-2021\" },\n",
    "  103 : {\"Pd_Name\" : \"Kit Kat\" , \"Pd_Price\" : 25 , \"Pd_GST_amt\" : 4.50 , \"Pd_Quantity\" : 35 , \"Expiry_Date\" : \"06-10-2021\" },\n",
    "  104 : {\"Pd_Name\" : \"Pen\" , \"Pd_Price\" : 5 , \"Pd_GST_amt\" : 0.75 , \"Pd_Quantity\" : 55 , \"Expiry_Date\" : \"06-10-2022\" },\n",
    "  105 : {\"Pd_Name\" : \"Pencil\" , \"Pd_Price\" : 7 , \"Pd_GST_amt\" : 1.05 , \"Pd_Quantity\" : 60 , \"Expiry_Date\" : \"06-10-2022\" },\n",
    "  106 : {\"Pd_Name\" : \"Pencil\" , \"Pd_Price\" : 7 , \"Pd_GST_amt\" : 1.05 , \"Pd_Quantity\" : 60 , \"Expiry_Date\" : \"06-10-2022\" },\n",
    "  107 : {\"Pd_Name\" : \"Scale\" , \"Pd_Price\" : 12 , \"Pd_GST_amt\" : 1.80 , \"Pd_Quantity\" : 35 , \"Expiry_Date\" : \"06-10-2022\" },\n",
    "  108 : {\"Pd_Name\" : \"Tomato Sauce\" , \"Pd_Price\" : 100 , \"Pd_GST_amt\" : 20 , \"Pd_Quantity\" : 20 , \"Expiry_Date\" : \"06-10-2021\" },\n",
    "  109 : {\"Pd_Name\" : \"Biscuits\" , \"Pd_Price\" : 15 , \"Pd_GST_amt\" : 2.70 , \"Pd_Quantity\" : 35 , \"Expiry_Date\" : \"06-10-2021\" },\n",
    "  110 : {\"Pd_Name\" : \"Salt\" , \"Pd_Price\" : 25 , \"Pd_GST_amt\" : 3.75, \"Pd_Quantity\" : 35 , \"Expiry_Date\" : \"06-10-2021\" },\n",
    "  111 : {\"Pd_Name\" : \"Pepper Powder\" , \"Pd_Price\" : 25 , \"Pd_GST_amt\" : 3.75 , \"Pd_Quantity\" : 25 , \"Expiry_Date\" : \"06-10-2021\" },\n",
    "  112 : {\"Pd_Name\" : \"Dairy Milk\" , \"Pd_Price\" : 25 , \"Pd_GST_amt\" : 4.50 , \"Pd_Quantity\" : 50 , \"Expiry_Date\" : \"06-10-2021\" },\n",
    "  113 : {\"Pd_Name\" : \"5star\" , \"Pd_Price\" : 5 , \"Pd_GST_amt\" : 0.75 , \"Pd_Quantity\" : 50 , \"Expiry_Date\" : \"06-10-2021\" },\n",
    "  114 : {\"Pd_Name\" : \"Kit Kat\" , \"Pd_Price\" : 15 , \"Pd_GST_amt\" : 2.70 , \"Pd_Quantity\" : 20 , \"Expiry_Date\" : \"06-10-2021\" },\n",
    "  115 : {\"Pd_Name\" : \"Chocos\" , \"Pd_Price\" : 10 , \"Pd_GST_amt\" : 1.80 , \"Pd_Quantity\" : 25 , \"Expiry_Date\" : \"06-10-2021\" },\n",
    "  116 : {\"Pd_Name\" : \"Stick Pen\" , \"Pd_Price\" : 20 , \"Pd_GST_amt\" : 3.00 , \"Pd_Quantity\" : 25 , \"Expiry_Date\" : \"06-10-2022\" },\n",
    "  117 : {\"Pd_Name\" : \"Dove Soap\" , \"Pd_Price\" : 40 , \"Pd_GST_amt\" : 7.60 , \"Pd_Quantity\" : 15 , \"Expiry_Date\" : \"06-05-2022\" },\n",
    "  118 : {\"Pd_Name\" : \"Lux Soap\" , \"Pd_Price\" : 35 , \"Pd_GST_amt\" : 6.65 , \"Pd_Quantity\" : 15 , \"Expiry_Date\" : \"06-05-2022\" },\n",
    "  119 : {\"Pd_Name\" : \"Pears Soap\" , \"Pd_Price\" : 35 , \"Pd_GST_amt\" : 6.65 , \"Pd_Quantity\" : 0 , \"Expiry_Date\" : \"06-05-2022\" },\n",
    "  120 : {\"Pd_Name\" : \"Lifeboy Soap\" , \"Pd_Price\" : 25 , \"Pd_GST_amt\" : 4.45 , \"Pd_Quantity\" : 5 , \"Expiry_Date\" : \"06-05-2022\" },\n",
    "  121 : {\"Pd_Name\" : \"Dove Shampoo\" , \"Pd_Price\" : 75 , \"Pd_GST_amt\" : 15.75 , \"Pd_Quantity\" : 0 , \"Expiry_Date\" : \"06-10-2022\" },\n",
    "  122 : {\"Pd_Name\" : \"Tresemme Shampoo\" , \"Pd_Price\" : 75 , \"Pd_GST_amt\" : 15.75 , \"Pd_Quantity\" : 3 , \"Expiry_Date\" : \"06-10-2022\" },\n",
    "  123 : {\"Pd_Name\" : \"Kurkure\" , \"Pd_Price\" : 5 , \"Pd_GST_amt\" : 0.25 , \"Pd_Quantity\" : 25 , \"Expiry_Date\" : \"06-10-2021\" },\n",
    "  124 : {\"Pd_Name\" : \"Lays\" , \"Pd_Price\" : 5 , \"Pd_GST_amt\" : 0.25 , \"Pd_Quantity\" : 25 , \"Expiry_Date\" : \"06-10-2021\" },\n",
    "  125 : {\"Pd_Name\" : \"Ponds Powder\" , \"Pd_Price\" : 75 , \"Pd_GST_amt\" : 15.75 , \"Pd_Quantity\" : 2 , \"Expiry_Date\" : \"06-10-2022\" },\n",
    "  126 : {\"Pd_Name\" : \"Compact Powder\" , \"Pd_Price\" : 115 , \"Pd_GST_amt\" : 24.15 , \"Pd_Quantity\" : 0 , \"Expiry_Date\" : \"06-10-2022\" },\n",
    "  127 : {\"Pd_Name\" : \"Coco Cola\" , \"Pd_Price\" : 25 , \"Pd_GST_amt\" : 4.50 , \"Pd_Quantity\" : 5 , \"Expiry_Date\" : \"06-06-2022\" },\n",
    "  128 : {\"Pd_Name\" : \"Sprite\" , \"Pd_Price\" : 35 , \"Pd_GST_amt\" : 6.30 , \"Pd_Quantity\" : 0 , \"Expiry_Date\" : \"06-06-2022\" },\n",
    "  129 : {\"Pd_Name\" : \"7UP\" , \"Pd_Price\" : 20 , \"Pd_GST_amt\" : 3.60 , \"Pd_Quantity\" : 5 , \"Expiry_Date\" : \"06-06-2022\" },\n",
    "  130 : {\"Pd_Name\" : \"Fanta\" , \"Pd_Price\" : 40 , \"Pd_GST_amt\" : 7.20 , \"Pd_Quantity\" : 3 , \"Expiry_Date\" : \"06-06-2022\" }}\n",
    "\n",
    "print(items)\n"
   ]
  },
  {
   "cell_type": "code",
   "execution_count": 6,
   "id": "892c7aaf",
   "metadata": {},
   "outputs": [],
   "source": [
    "import json"
   ]
  },
  {
   "cell_type": "code",
   "execution_count": 7,
   "id": "f947729f",
   "metadata": {},
   "outputs": [
    {
     "name": "stdout",
     "output_type": "stream",
     "text": [
      "{\"101\": {\"Pd_Name\": \"Dairy Milk\", \"Pd_Price\": 50, \"Pd_GST_amt\": 9, \"Pd_Quantity\": 25, \"Expiry_Date\": \"06-10-2021\"}, \"102\": {\"Pd_Name\": \"5star\", \"Pd_Price\": 10, \"Pd_GST_amt\": 1.8, \"Pd_Quantity\": 50, \"Expiry_Date\": \"06-10-2021\"}, \"103\": {\"Pd_Name\": \"Kit Kat\", \"Pd_Price\": 25, \"Pd_GST_amt\": 4.5, \"Pd_Quantity\": 35, \"Expiry_Date\": \"06-10-2021\"}, \"104\": {\"Pd_Name\": \"Pen\", \"Pd_Price\": 5, \"Pd_GST_amt\": 0.75, \"Pd_Quantity\": 55, \"Expiry_Date\": \"06-10-2022\"}, \"105\": {\"Pd_Name\": \"Pencil\", \"Pd_Price\": 7, \"Pd_GST_amt\": 1.05, \"Pd_Quantity\": 60, \"Expiry_Date\": \"06-10-2022\"}, \"106\": {\"Pd_Name\": \"Pencil\", \"Pd_Price\": 7, \"Pd_GST_amt\": 1.05, \"Pd_Quantity\": 60, \"Expiry_Date\": \"06-10-2022\"}, \"107\": {\"Pd_Name\": \"Scale\", \"Pd_Price\": 12, \"Pd_GST_amt\": 1.8, \"Pd_Quantity\": 35, \"Expiry_Date\": \"06-10-2022\"}, \"108\": {\"Pd_Name\": \"Tomato Sauce\", \"Pd_Price\": 100, \"Pd_GST_amt\": 20, \"Pd_Quantity\": 20, \"Expiry_Date\": \"06-10-2021\"}, \"109\": {\"Pd_Name\": \"Biscuits\", \"Pd_Price\": 15, \"Pd_GST_amt\": 2.7, \"Pd_Quantity\": 35, \"Expiry_Date\": \"06-10-2021\"}, \"110\": {\"Pd_Name\": \"Salt\", \"Pd_Price\": 25, \"Pd_GST_amt\": 3.75, \"Pd_Quantity\": 35, \"Expiry_Date\": \"06-10-2021\"}, \"111\": {\"Pd_Name\": \"Pepper Powder\", \"Pd_Price\": 25, \"Pd_GST_amt\": 3.75, \"Pd_Quantity\": 25, \"Expiry_Date\": \"06-10-2021\"}, \"112\": {\"Pd_Name\": \"Dairy Milk\", \"Pd_Price\": 25, \"Pd_GST_amt\": 4.5, \"Pd_Quantity\": 50, \"Expiry_Date\": \"06-10-2021\"}, \"113\": {\"Pd_Name\": \"5star\", \"Pd_Price\": 5, \"Pd_GST_amt\": 0.75, \"Pd_Quantity\": 50, \"Expiry_Date\": \"06-10-2021\"}, \"114\": {\"Pd_Name\": \"Kit Kat\", \"Pd_Price\": 15, \"Pd_GST_amt\": 2.7, \"Pd_Quantity\": 20, \"Expiry_Date\": \"06-10-2021\"}, \"115\": {\"Pd_Name\": \"Chocos\", \"Pd_Price\": 10, \"Pd_GST_amt\": 1.8, \"Pd_Quantity\": 25, \"Expiry_Date\": \"06-10-2021\"}, \"116\": {\"Pd_Name\": \"Stick Pen\", \"Pd_Price\": 20, \"Pd_GST_amt\": 3.0, \"Pd_Quantity\": 25, \"Expiry_Date\": \"06-10-2022\"}, \"117\": {\"Pd_Name\": \"Dove Soap\", \"Pd_Price\": 40, \"Pd_GST_amt\": 7.6, \"Pd_Quantity\": 15, \"Expiry_Date\": \"06-05-2022\"}, \"118\": {\"Pd_Name\": \"Lux Soap\", \"Pd_Price\": 35, \"Pd_GST_amt\": 6.65, \"Pd_Quantity\": 15, \"Expiry_Date\": \"06-05-2022\"}, \"119\": {\"Pd_Name\": \"Pears Soap\", \"Pd_Price\": 35, \"Pd_GST_amt\": 6.65, \"Pd_Quantity\": 0, \"Expiry_Date\": \"06-05-2022\"}, \"120\": {\"Pd_Name\": \"Lifeboy Soap\", \"Pd_Price\": 25, \"Pd_GST_amt\": 4.45, \"Pd_Quantity\": 5, \"Expiry_Date\": \"06-05-2022\"}, \"121\": {\"Pd_Name\": \"Dove Shampoo\", \"Pd_Price\": 75, \"Pd_GST_amt\": 15.75, \"Pd_Quantity\": 0, \"Expiry_Date\": \"06-10-2022\"}, \"122\": {\"Pd_Name\": \"Tresemme Shampoo\", \"Pd_Price\": 75, \"Pd_GST_amt\": 15.75, \"Pd_Quantity\": 3, \"Expiry_Date\": \"06-10-2022\"}, \"123\": {\"Pd_Name\": \"Kurkure\", \"Pd_Price\": 5, \"Pd_GST_amt\": 0.25, \"Pd_Quantity\": 25, \"Expiry_Date\": \"06-10-2021\"}, \"124\": {\"Pd_Name\": \"Lays\", \"Pd_Price\": 5, \"Pd_GST_amt\": 0.25, \"Pd_Quantity\": 25, \"Expiry_Date\": \"06-10-2021\"}, \"125\": {\"Pd_Name\": \"Ponds Powder\", \"Pd_Price\": 75, \"Pd_GST_amt\": 15.75, \"Pd_Quantity\": 2, \"Expiry_Date\": \"06-10-2022\"}, \"126\": {\"Pd_Name\": \"Compact Powder\", \"Pd_Price\": 115, \"Pd_GST_amt\": 24.15, \"Pd_Quantity\": 0, \"Expiry_Date\": \"06-10-2022\"}, \"127\": {\"Pd_Name\": \"Coco Cola\", \"Pd_Price\": 25, \"Pd_GST_amt\": 4.5, \"Pd_Quantity\": 5, \"Expiry_Date\": \"06-06-2022\"}, \"128\": {\"Pd_Name\": \"Sprite\", \"Pd_Price\": 35, \"Pd_GST_amt\": 6.3, \"Pd_Quantity\": 0, \"Expiry_Date\": \"06-06-2022\"}, \"129\": {\"Pd_Name\": \"7UP\", \"Pd_Price\": 20, \"Pd_GST_amt\": 3.6, \"Pd_Quantity\": 5, \"Expiry_Date\": \"06-06-2022\"}, \"130\": {\"Pd_Name\": \"Fanta\", \"Pd_Price\": 40, \"Pd_GST_amt\": 7.2, \"Pd_Quantity\": 3, \"Expiry_Date\": \"06-06-2022\"}}\n"
     ]
    }
   ],
   "source": [
    "js = json.dumps(items)\n",
    "print(js)"
   ]
  },
  {
   "cell_type": "code",
   "execution_count": 12,
   "id": "adf5b857",
   "metadata": {},
   "outputs": [],
   "source": [
    "fd = open(\"Product Purchase.json\",'w')\n",
    "fd.write(js)\n",
    "fd.close()"
   ]
  },
  {
   "cell_type": "code",
   "execution_count": 14,
   "id": "714196ad",
   "metadata": {},
   "outputs": [],
   "source": [
    "fd = open(\"Product Purchase.json\",'r')\n",
    "item = fd.read()\n",
    "fd.close()"
   ]
  },
  {
   "cell_type": "code",
   "execution_count": 15,
   "id": "7405eab6",
   "metadata": {},
   "outputs": [
    {
     "name": "stdout",
     "output_type": "stream",
     "text": [
      "{\"101\": {\"Pd_Name\": \"Dairy Milk\", \"Pd_Price\": 50, \"Pd_GST_amt\": 9, \"Pd_Quantity\": 25, \"Expiry_Date\": \"06-10-2021\"}, \"102\": {\"Pd_Name\": \"5star\", \"Pd_Price\": 10, \"Pd_GST_amt\": 1.8, \"Pd_Quantity\": 50, \"Expiry_Date\": \"06-10-2021\"}, \"103\": {\"Pd_Name\": \"Kit Kat\", \"Pd_Price\": 25, \"Pd_GST_amt\": 4.5, \"Pd_Quantity\": 35, \"Expiry_Date\": \"06-10-2021\"}, \"104\": {\"Pd_Name\": \"Pen\", \"Pd_Price\": 5, \"Pd_GST_amt\": 0.75, \"Pd_Quantity\": 55, \"Expiry_Date\": \"06-10-2022\"}, \"105\": {\"Pd_Name\": \"Pencil\", \"Pd_Price\": 7, \"Pd_GST_amt\": 1.05, \"Pd_Quantity\": 60, \"Expiry_Date\": \"06-10-2022\"}, \"106\": {\"Pd_Name\": \"Pencil\", \"Pd_Price\": 7, \"Pd_GST_amt\": 1.05, \"Pd_Quantity\": 60, \"Expiry_Date\": \"06-10-2022\"}, \"107\": {\"Pd_Name\": \"Scale\", \"Pd_Price\": 12, \"Pd_GST_amt\": 1.8, \"Pd_Quantity\": 35, \"Expiry_Date\": \"06-10-2022\"}, \"108\": {\"Pd_Name\": \"Tomato Sauce\", \"Pd_Price\": 100, \"Pd_GST_amt\": 20, \"Pd_Quantity\": 20, \"Expiry_Date\": \"06-10-2021\"}, \"109\": {\"Pd_Name\": \"Biscuits\", \"Pd_Price\": 15, \"Pd_GST_amt\": 2.7, \"Pd_Quantity\": 35, \"Expiry_Date\": \"06-10-2021\"}, \"110\": {\"Pd_Name\": \"Salt\", \"Pd_Price\": 25, \"Pd_GST_amt\": 3.75, \"Pd_Quantity\": 35, \"Expiry_Date\": \"06-10-2021\"}, \"111\": {\"Pd_Name\": \"Pepper Powder\", \"Pd_Price\": 25, \"Pd_GST_amt\": 3.75, \"Pd_Quantity\": 25, \"Expiry_Date\": \"06-10-2021\"}, \"112\": {\"Pd_Name\": \"Dairy Milk\", \"Pd_Price\": 25, \"Pd_GST_amt\": 4.5, \"Pd_Quantity\": 50, \"Expiry_Date\": \"06-10-2021\"}, \"113\": {\"Pd_Name\": \"5star\", \"Pd_Price\": 5, \"Pd_GST_amt\": 0.75, \"Pd_Quantity\": 50, \"Expiry_Date\": \"06-10-2021\"}, \"114\": {\"Pd_Name\": \"Kit Kat\", \"Pd_Price\": 15, \"Pd_GST_amt\": 2.7, \"Pd_Quantity\": 20, \"Expiry_Date\": \"06-10-2021\"}, \"115\": {\"Pd_Name\": \"Chocos\", \"Pd_Price\": 10, \"Pd_GST_amt\": 1.8, \"Pd_Quantity\": 25, \"Expiry_Date\": \"06-10-2021\"}, \"116\": {\"Pd_Name\": \"Stick Pen\", \"Pd_Price\": 20, \"Pd_GST_amt\": 3.0, \"Pd_Quantity\": 25, \"Expiry_Date\": \"06-10-2022\"}, \"117\": {\"Pd_Name\": \"Dove Soap\", \"Pd_Price\": 40, \"Pd_GST_amt\": 7.6, \"Pd_Quantity\": 15, \"Expiry_Date\": \"06-05-2022\"}, \"118\": {\"Pd_Name\": \"Lux Soap\", \"Pd_Price\": 35, \"Pd_GST_amt\": 6.65, \"Pd_Quantity\": 15, \"Expiry_Date\": \"06-05-2022\"}, \"119\": {\"Pd_Name\": \"Pears Soap\", \"Pd_Price\": 35, \"Pd_GST_amt\": 6.65, \"Pd_Quantity\": 0, \"Expiry_Date\": \"06-05-2022\"}, \"120\": {\"Pd_Name\": \"Lifeboy Soap\", \"Pd_Price\": 25, \"Pd_GST_amt\": 4.45, \"Pd_Quantity\": 5, \"Expiry_Date\": \"06-05-2022\"}, \"121\": {\"Pd_Name\": \"Dove Shampoo\", \"Pd_Price\": 75, \"Pd_GST_amt\": 15.75, \"Pd_Quantity\": 0, \"Expiry_Date\": \"06-10-2022\"}, \"122\": {\"Pd_Name\": \"Tresemme Shampoo\", \"Pd_Price\": 75, \"Pd_GST_amt\": 15.75, \"Pd_Quantity\": 3, \"Expiry_Date\": \"06-10-2022\"}, \"123\": {\"Pd_Name\": \"Kurkure\", \"Pd_Price\": 5, \"Pd_GST_amt\": 0.25, \"Pd_Quantity\": 25, \"Expiry_Date\": \"06-10-2021\"}, \"124\": {\"Pd_Name\": \"Lays\", \"Pd_Price\": 5, \"Pd_GST_amt\": 0.25, \"Pd_Quantity\": 25, \"Expiry_Date\": \"06-10-2021\"}, \"125\": {\"Pd_Name\": \"Ponds Powder\", \"Pd_Price\": 75, \"Pd_GST_amt\": 15.75, \"Pd_Quantity\": 2, \"Expiry_Date\": \"06-10-2022\"}, \"126\": {\"Pd_Name\": \"Compact Powder\", \"Pd_Price\": 115, \"Pd_GST_amt\": 24.15, \"Pd_Quantity\": 0, \"Expiry_Date\": \"06-10-2022\"}, \"127\": {\"Pd_Name\": \"Coco Cola\", \"Pd_Price\": 25, \"Pd_GST_amt\": 4.5, \"Pd_Quantity\": 5, \"Expiry_Date\": \"06-06-2022\"}, \"128\": {\"Pd_Name\": \"Sprite\", \"Pd_Price\": 35, \"Pd_GST_amt\": 6.3, \"Pd_Quantity\": 0, \"Expiry_Date\": \"06-06-2022\"}, \"129\": {\"Pd_Name\": \"7UP\", \"Pd_Price\": 20, \"Pd_GST_amt\": 3.6, \"Pd_Quantity\": 5, \"Expiry_Date\": \"06-06-2022\"}, \"130\": {\"Pd_Name\": \"Fanta\", \"Pd_Price\": 40, \"Pd_GST_amt\": 7.2, \"Pd_Quantity\": 3, \"Expiry_Date\": \"06-06-2022\"}}\n"
     ]
    }
   ],
   "source": [
    "print(item)"
   ]
  },
  {
   "cell_type": "code",
   "execution_count": 24,
   "id": "23c86595",
   "metadata": {},
   "outputs": [
    {
     "name": "stdout",
     "output_type": "stream",
     "text": [
      "Enter  the Product ID: 101\n",
      "Enter the Quantity: 2\n",
      "*******************PRODUCTS BILL*******************\n",
      "\n",
      "\n"
     ]
    },
    {
     "ename": "KeyError",
     "evalue": "'101'",
     "output_type": "error",
     "traceback": [
      "\u001b[1;31m---------------------------------------------------------------------------\u001b[0m",
      "\u001b[1;31mKeyError\u001b[0m                                  Traceback (most recent call last)",
      "\u001b[1;32m<ipython-input-24-e052d051cf55>\u001b[0m in \u001b[0;36m<module>\u001b[1;34m\u001b[0m\n\u001b[0;32m      4\u001b[0m \u001b[0mprint\u001b[0m\u001b[1;33m(\u001b[0m\u001b[1;34m\"*******************PRODUCTS BILL*******************\"\u001b[0m\u001b[1;33m)\u001b[0m\u001b[1;33m\u001b[0m\u001b[1;33m\u001b[0m\u001b[0m\n\u001b[0;32m      5\u001b[0m \u001b[0mprint\u001b[0m\u001b[1;33m(\u001b[0m\u001b[1;34m\"\\n\"\u001b[0m\u001b[1;33m)\u001b[0m\u001b[1;33m\u001b[0m\u001b[1;33m\u001b[0m\u001b[0m\n\u001b[1;32m----> 6\u001b[1;33m \u001b[0mprint\u001b[0m\u001b[1;33m(\u001b[0m\u001b[1;34m\"Product Name: \"\u001b[0m\u001b[1;33m,\u001b[0m\u001b[0mitems\u001b[0m\u001b[1;33m[\u001b[0m\u001b[0mPd_id\u001b[0m\u001b[1;33m]\u001b[0m\u001b[1;33m[\u001b[0m\u001b[1;34m\"Pd_Name\"\u001b[0m\u001b[1;33m]\u001b[0m\u001b[1;33m)\u001b[0m\u001b[1;33m\u001b[0m\u001b[1;33m\u001b[0m\u001b[0m\n\u001b[0m\u001b[0;32m      7\u001b[0m \u001b[0mprint\u001b[0m\u001b[1;33m(\u001b[0m\u001b[1;34m\"Product Price: \"\u001b[0m\u001b[1;33m,\u001b[0m\u001b[0mitems\u001b[0m\u001b[1;33m[\u001b[0m\u001b[0mPd_id\u001b[0m\u001b[1;33m]\u001b[0m\u001b[1;33m[\u001b[0m\u001b[0mPd_Price\u001b[0m\u001b[1;33m]\u001b[0m\u001b[1;33m)\u001b[0m\u001b[1;33m\u001b[0m\u001b[1;33m\u001b[0m\u001b[0m\n\u001b[0;32m      8\u001b[0m \u001b[0mprint\u001b[0m\u001b[1;33m(\u001b[0m\u001b[1;34m\"Product GST Amount: \"\u001b[0m\u001b[1;33m,\u001b[0m\u001b[0mitems\u001b[0m\u001b[1;33m[\u001b[0m\u001b[0mPd_id\u001b[0m\u001b[1;33m]\u001b[0m\u001b[1;33m[\u001b[0m\u001b[0mPd_GST_amt\u001b[0m\u001b[1;33m]\u001b[0m\u001b[1;33m)\u001b[0m\u001b[1;33m\u001b[0m\u001b[1;33m\u001b[0m\u001b[0m\n",
      "\u001b[1;31mKeyError\u001b[0m: '101'"
     ]
    }
   ],
   "source": []
  },
  {
   "cell_type": "code",
   "execution_count": 25,
   "id": "d7c5cce0",
   "metadata": {},
   "outputs": [
    {
     "name": "stdout",
     "output_type": "stream",
     "text": [
      "{101: {'Pd_Name': 'Dairy Milk', 'Pd_Price': 50, 'Pd_GST_amt': 9, 'Pd_Quantity': 25, 'Expiry_Date': '06-10-2021'}, 102: {'Pd_Name': '5star', 'Pd_Price': 10, 'Pd_GST_amt': 1.8, 'Pd_Quantity': 50, 'Expiry_Date': '06-10-2021'}, 103: {'Pd_Name': 'Kit Kat', 'Pd_Price': 25, 'Pd_GST_amt': 4.5, 'Pd_Quantity': 35, 'Expiry_Date': '06-10-2021'}, 104: {'Pd_Name': 'Pen', 'Pd_Price': 5, 'Pd_GST_amt': 0.75, 'Pd_Quantity': 55, 'Expiry_Date': '06-10-2022'}, 105: {'Pd_Name': 'Pencil', 'Pd_Price': 7, 'Pd_GST_amt': 1.05, 'Pd_Quantity': 60, 'Expiry_Date': '06-10-2022'}, 106: {'Pd_Name': 'Pencil', 'Pd_Price': 7, 'Pd_GST_amt': 1.05, 'Pd_Quantity': 60, 'Expiry_Date': '06-10-2022'}, 107: {'Pd_Name': 'Scale', 'Pd_Price': 12, 'Pd_GST_amt': 1.8, 'Pd_Quantity': 35, 'Expiry_Date': '06-10-2022'}, 108: {'Pd_Name': 'Tomato Sauce', 'Pd_Price': 100, 'Pd_GST_amt': 20, 'Pd_Quantity': 20, 'Expiry_Date': '06-10-2021'}, 109: {'Pd_Name': 'Biscuits', 'Pd_Price': 15, 'Pd_GST_amt': 2.7, 'Pd_Quantity': 35, 'Expiry_Date': '06-10-2021'}, 110: {'Pd_Name': 'Salt', 'Pd_Price': 25, 'Pd_GST_amt': 3.75, 'Pd_Quantity': 35, 'Expiry_Date': '06-10-2021'}, 111: {'Pd_Name': 'Pepper Powder', 'Pd_Price': 25, 'Pd_GST_amt': 3.75, 'Pd_Quantity': 25, 'Expiry_Date': '06-10-2021'}, 112: {'Pd_Name': 'Dairy Milk', 'Pd_Price': 25, 'Pd_GST_amt': 4.5, 'Pd_Quantity': 50, 'Expiry_Date': '06-10-2021'}, 113: {'Pd_Name': '5star', 'Pd_Price': 5, 'Pd_GST_amt': 0.75, 'Pd_Quantity': 50, 'Expiry_Date': '06-10-2021'}, 114: {'Pd_Name': 'Kit Kat', 'Pd_Price': 15, 'Pd_GST_amt': 2.7, 'Pd_Quantity': 20, 'Expiry_Date': '06-10-2021'}, 115: {'Pd_Name': 'Chocos', 'Pd_Price': 10, 'Pd_GST_amt': 1.8, 'Pd_Quantity': 25, 'Expiry_Date': '06-10-2021'}, 116: {'Pd_Name': 'Stick Pen', 'Pd_Price': 20, 'Pd_GST_amt': 3.0, 'Pd_Quantity': 25, 'Expiry_Date': '06-10-2022'}, 117: {'Pd_Name': 'Dove Soap', 'Pd_Price': 40, 'Pd_GST_amt': 7.6, 'Pd_Quantity': 15, 'Expiry_Date': '06-05-2022'}, 118: {'Pd_Name': 'Lux Soap', 'Pd_Price': 35, 'Pd_GST_amt': 6.65, 'Pd_Quantity': 15, 'Expiry_Date': '06-05-2022'}, 119: {'Pd_Name': 'Pears Soap', 'Pd_Price': 35, 'Pd_GST_amt': 6.65, 'Pd_Quantity': 0, 'Expiry_Date': '06-05-2022'}, 120: {'Pd_Name': 'Lifeboy Soap', 'Pd_Price': 25, 'Pd_GST_amt': 4.45, 'Pd_Quantity': 5, 'Expiry_Date': '06-05-2022'}, 121: {'Pd_Name': 'Dove Shampoo', 'Pd_Price': 75, 'Pd_GST_amt': 15.75, 'Pd_Quantity': 0, 'Expiry_Date': '06-10-2022'}, 122: {'Pd_Name': 'Tresemme Shampoo', 'Pd_Price': 75, 'Pd_GST_amt': 15.75, 'Pd_Quantity': 3, 'Expiry_Date': '06-10-2022'}, 123: {'Pd_Name': 'Kurkure', 'Pd_Price': 5, 'Pd_GST_amt': 0.25, 'Pd_Quantity': 25, 'Expiry_Date': '06-10-2021'}, 124: {'Pd_Name': 'Lays', 'Pd_Price': 5, 'Pd_GST_amt': 0.25, 'Pd_Quantity': 25, 'Expiry_Date': '06-10-2021'}, 125: {'Pd_Name': 'Ponds Powder', 'Pd_Price': 75, 'Pd_GST_amt': 15.75, 'Pd_Quantity': 2, 'Expiry_Date': '06-10-2022'}, 126: {'Pd_Name': 'Compact Powder', 'Pd_Price': 115, 'Pd_GST_amt': 24.15, 'Pd_Quantity': 0, 'Expiry_Date': '06-10-2022'}, 127: {'Pd_Name': 'Coco Cola', 'Pd_Price': 25, 'Pd_GST_amt': 4.5, 'Pd_Quantity': 5, 'Expiry_Date': '06-06-2022'}, 128: {'Pd_Name': 'Sprite', 'Pd_Price': 35, 'Pd_GST_amt': 6.3, 'Pd_Quantity': 0, 'Expiry_Date': '06-06-2022'}, 129: {'Pd_Name': '7UP', 'Pd_Price': 20, 'Pd_GST_amt': 3.6, 'Pd_Quantity': 5, 'Expiry_Date': '06-06-2022'}, 130: {'Pd_Name': 'Fanta', 'Pd_Price': 40, 'Pd_GST_amt': 7.2, 'Pd_Quantity': 3, 'Expiry_Date': '06-06-2022'}}\n"
     ]
    }
   ],
   "source": [
    "print(items)"
   ]
  },
  {
   "cell_type": "code",
   "execution_count": 26,
   "id": "1b1f0bfe",
   "metadata": {},
   "outputs": [
    {
     "name": "stdout",
     "output_type": "stream",
     "text": [
      "Enter  the Product ID: 101\n",
      "Enter the Quantity: 2\n",
      "*******************PRODUCTS BILL*******************\n",
      "\n",
      "\n"
     ]
    },
    {
     "ename": "KeyError",
     "evalue": "'101'",
     "output_type": "error",
     "traceback": [
      "\u001b[1;31m---------------------------------------------------------------------------\u001b[0m",
      "\u001b[1;31mKeyError\u001b[0m                                  Traceback (most recent call last)",
      "\u001b[1;32m<ipython-input-26-e052d051cf55>\u001b[0m in \u001b[0;36m<module>\u001b[1;34m\u001b[0m\n\u001b[0;32m      4\u001b[0m \u001b[0mprint\u001b[0m\u001b[1;33m(\u001b[0m\u001b[1;34m\"*******************PRODUCTS BILL*******************\"\u001b[0m\u001b[1;33m)\u001b[0m\u001b[1;33m\u001b[0m\u001b[1;33m\u001b[0m\u001b[0m\n\u001b[0;32m      5\u001b[0m \u001b[0mprint\u001b[0m\u001b[1;33m(\u001b[0m\u001b[1;34m\"\\n\"\u001b[0m\u001b[1;33m)\u001b[0m\u001b[1;33m\u001b[0m\u001b[1;33m\u001b[0m\u001b[0m\n\u001b[1;32m----> 6\u001b[1;33m \u001b[0mprint\u001b[0m\u001b[1;33m(\u001b[0m\u001b[1;34m\"Product Name: \"\u001b[0m\u001b[1;33m,\u001b[0m\u001b[0mitems\u001b[0m\u001b[1;33m[\u001b[0m\u001b[0mPd_id\u001b[0m\u001b[1;33m]\u001b[0m\u001b[1;33m[\u001b[0m\u001b[1;34m\"Pd_Name\"\u001b[0m\u001b[1;33m]\u001b[0m\u001b[1;33m)\u001b[0m\u001b[1;33m\u001b[0m\u001b[1;33m\u001b[0m\u001b[0m\n\u001b[0m\u001b[0;32m      7\u001b[0m \u001b[0mprint\u001b[0m\u001b[1;33m(\u001b[0m\u001b[1;34m\"Product Price: \"\u001b[0m\u001b[1;33m,\u001b[0m\u001b[0mitems\u001b[0m\u001b[1;33m[\u001b[0m\u001b[0mPd_id\u001b[0m\u001b[1;33m]\u001b[0m\u001b[1;33m[\u001b[0m\u001b[0mPd_Price\u001b[0m\u001b[1;33m]\u001b[0m\u001b[1;33m)\u001b[0m\u001b[1;33m\u001b[0m\u001b[1;33m\u001b[0m\u001b[0m\n\u001b[0;32m      8\u001b[0m \u001b[0mprint\u001b[0m\u001b[1;33m(\u001b[0m\u001b[1;34m\"Product GST Amount: \"\u001b[0m\u001b[1;33m,\u001b[0m\u001b[0mitems\u001b[0m\u001b[1;33m[\u001b[0m\u001b[0mPd_id\u001b[0m\u001b[1;33m]\u001b[0m\u001b[1;33m[\u001b[0m\u001b[0mPd_GST_amt\u001b[0m\u001b[1;33m]\u001b[0m\u001b[1;33m)\u001b[0m\u001b[1;33m\u001b[0m\u001b[1;33m\u001b[0m\u001b[0m\n",
      "\u001b[1;31mKeyError\u001b[0m: '101'"
     ]
    }
   ],
   "source": [
    "Pd_id = int(input(\"Enter  the Product ID: \"))\n",
    "Pd_Qt = int(input(\"Enter the Quantity: \"))\n",
    "\n",
    "print(\"*******************PRODUCTS BILL*******************\")\n",
    "print(\"\\n\")\n",
    "print(\"Product Name: \",items[Pd_id][\"Pd_Name\"])\n",
    "print(\"Product Price: \",items[Pd_id][Pd_Price])\n",
    "print(\"Product GST Amount: \",items[Pd_id][Pd_GST_amt])\n",
    "print(\"Product Quantity: \",items[Pd_id][Pd_Quantity])\n",
    "print(\"Product Expiry Date: \",items[Pd_id][\"Expiry_Date\"])\n",
    "print(\"\\n\")\n",
    "print(\"***************************************\") \n",
    "print(\"\\n\")\n",
    "print(\"\\n\")\n",
    "total = (items[Pd_id][Pd_Price] + items[Pd_id][Pd_GST_amt]) * pd_Qt\n",
    "print(\"The GST will be included in the total amount.\")\n",
    "print(\"\\n\")\n",
    "print(\"\\n\")\n",
    "print(\"****************************************************\")\n",
    "print(\"\\n\")\n",
    "print(\"TOTAL AMOUNT = \",total)\n",
    "print(\"\\n\")\n",
    "print(\"***************************************\")\n",
    "print(\"\\n\")\n",
    "print(\"\\n\")\n",
    "print(\"\\\\\\\\\\\\\\\\\\\\\\\\\\STAY SAFE AND VISIT AGAIN/////////////\")"
   ]
  },
  {
   "cell_type": "code",
   "execution_count": null,
   "id": "d79feba7",
   "metadata": {},
   "outputs": [],
   "source": []
  },
  {
   "cell_type": "code",
   "execution_count": null,
   "id": "2cbd0b4f",
   "metadata": {},
   "outputs": [],
   "source": []
  }
 ],
 "metadata": {
  "kernelspec": {
   "display_name": "Python 3",
   "language": "python",
   "name": "python3"
  },
  "language_info": {
   "codemirror_mode": {
    "name": "ipython",
    "version": 3
   },
   "file_extension": ".py",
   "mimetype": "text/x-python",
   "name": "python",
   "nbconvert_exporter": "python",
   "pygments_lexer": "ipython3",
   "version": "3.8.8"
  }
 },
 "nbformat": 4,
 "nbformat_minor": 5
}
