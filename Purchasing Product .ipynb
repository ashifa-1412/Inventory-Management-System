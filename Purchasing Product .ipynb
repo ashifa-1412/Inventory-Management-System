{
 "cells": [
  {
   "cell_type": "code",
   "execution_count": null,
   "id": "54e397ab",
   "metadata": {},
   "outputs": [],
   "source": [
    "# Importing json file for adding items"
   ]
  },
  {
   "cell_type": "code",
   "execution_count": 1,
   "id": "7aea961d",
   "metadata": {},
   "outputs": [
    {
     "name": "stdout",
     "output_type": "stream",
     "text": [
      "{'101': {'Pd_Name': 'Dairy Milk', 'Pd_Price': 50, 'Pd_GST_amt': 9, 'Pd_Quantity': 21, 'Expiry_Date': '06-10-2021'}, '102': {'Pd_Name': '5star', 'Pd_Price': 10, 'Pd_GST_amt': 1.8, 'Pd_Quantity': 50, 'Expiry_Date': '06-10-2021'}, '103': {'Pd_Name': 'Kit Kat', 'Pd_Price': 25, 'Pd_GST_amt': 4.5, 'Pd_Quantity': 35, 'Expiry_Date': '06-10-2021'}, '104': {'Pd_Name': 'Pen', 'Pd_Price': 5, 'Pd_GST_amt': 0.75, 'Pd_Quantity': 55, 'Expiry_Date': '06-10-2022'}, '105': {'Pd_Name': 'Pencil', 'Pd_Price': 7, 'Pd_GST_amt': 1.05, 'Pd_Quantity': 60, 'Expiry_Date': '06-10-2022'}, '106': {'Pd_Name': 'Pencil', 'Pd_Price': 7, 'Pd_GST_amt': 1.05, 'Pd_Quantity': 60, 'Expiry_Date': '06-10-2022'}, '107': {'Pd_Name': 'Scale', 'Pd_Price': 12, 'Pd_GST_amt': 1.8, 'Pd_Quantity': 35, 'Expiry_Date': '06-10-2022'}, '108': {'Pd_Name': 'Tomato Sauce', 'Pd_Price': 100, 'Pd_GST_amt': 20, 'Pd_Quantity': 20, 'Expiry_Date': '06-10-2021'}, '109': {'Pd_Name': 'Biscuits', 'Pd_Price': 15, 'Pd_GST_amt': 2.7, 'Pd_Quantity': 35, 'Expiry_Date': '06-10-2021'}, '110': {'Pd_Name': 'Salt', 'Pd_Price': 25, 'Pd_GST_amt': 3.75, 'Pd_Quantity': 35, 'Expiry_Date': '06-10-2021'}, '111': {'Pd_Name': 'Pepper Powder', 'Pd_Price': 25, 'Pd_GST_amt': 3.75, 'Pd_Quantity': 25, 'Expiry_Date': '06-10-2021'}, '112': {'Pd_Name': 'Dairy Milk', 'Pd_Price': 25, 'Pd_GST_amt': 4.5, 'Pd_Quantity': 50, 'Expiry_Date': '06-10-2021'}, '113': {'Pd_Name': '5star', 'Pd_Price': 5, 'Pd_GST_amt': 0.75, 'Pd_Quantity': 50, 'Expiry_Date': '06-10-2021'}, '114': {'Pd_Name': 'Kit Kat', 'Pd_Price': 15, 'Pd_GST_amt': 2.7, 'Pd_Quantity': 20, 'Expiry_Date': '06-10-2021'}, '115': {'Pd_Name': 'Chocos', 'Pd_Price': 10, 'Pd_GST_amt': 1.8, 'Pd_Quantity': 25, 'Expiry_Date': '06-10-2021'}, '116': {'Pd_Name': 'Stick Pen', 'Pd_Price': 20, 'Pd_GST_amt': 3.0, 'Pd_Quantity': 25, 'Expiry_Date': '06-10-2022'}, '117': {'Pd_Name': 'Dove Soap', 'Pd_Price': 40, 'Pd_GST_amt': 7.6, 'Pd_Quantity': 15, 'Expiry_Date': '06-05-2022'}, '118': {'Pd_Name': 'Lux Soap', 'Pd_Price': 35, 'Pd_GST_amt': 6.65, 'Pd_Quantity': 15, 'Expiry_Date': '06-05-2022'}, '119': {'Pd_Name': 'Pears Soap', 'Pd_Price': 35, 'Pd_GST_amt': 6.65, 'Pd_Quantity': 0, 'Expiry_Date': '06-05-2022'}, '120': {'Pd_Name': 'Lifeboy Soap', 'Pd_Price': 25, 'Pd_GST_amt': 4.45, 'Pd_Quantity': 5, 'Expiry_Date': '06-05-2022'}, '121': {'Pd_Name': 'Dove Shampoo', 'Pd_Price': 75, 'Pd_GST_amt': 15.75, 'Pd_Quantity': 0, 'Expiry_Date': '06-10-2022'}, '122': {'Pd_Name': 'Tresemme Shampoo', 'Pd_Price': 75, 'Pd_GST_amt': 15.75, 'Pd_Quantity': 3, 'Expiry_Date': '06-10-2022'}, '123': {'Pd_Name': 'Kurkure', 'Pd_Price': 5, 'Pd_GST_amt': 0.25, 'Pd_Quantity': 25, 'Expiry_Date': '06-10-2021'}, '124': {'Pd_Name': 'Lays', 'Pd_Price': 5, 'Pd_GST_amt': 0.25, 'Pd_Quantity': 25, 'Expiry_Date': '06-10-2021'}, '125': {'Pd_Name': 'Ponds Powder', 'Pd_Price': 75, 'Pd_GST_amt': 15.75, 'Pd_Quantity': 2, 'Expiry_Date': '06-10-2022'}, '126': {'Pd_Name': 'Compact Powder', 'Pd_Price': 115, 'Pd_GST_amt': 24.15, 'Pd_Quantity': 0, 'Expiry_Date': '06-10-2022'}, '127': {'Pd_Name': 'Coco Cola', 'Pd_Price': 25, 'Pd_GST_amt': 4.5, 'Pd_Quantity': 5, 'Expiry_Date': '06-06-2022'}, '128': {'Pd_Name': 'Sprite', 'Pd_Price': 35, 'Pd_GST_amt': 6.3, 'Pd_Quantity': 0, 'Expiry_Date': '06-06-2022'}, '129': {'Pd_Name': '7UP', 'Pd_Price': 20, 'Pd_GST_amt': 3.6, 'Pd_Quantity': 5, 'Expiry_Date': '06-06-2022'}, '130': {'Pd_Name': 'Fanta', 'Pd_Price': 40, 'Pd_GST_amt': 7.2, 'Pd_Quantity': 3, 'Expiry_Date': '06-06-2022'}}\n"
     ]
    }
   ],
   "source": [
    "import json\n",
    "\n",
    "fd = open(\"Product details.json\",'r')\n",
    "item = fd.read()\n",
    "fd.close()\n",
    "\n",
    "record = json.loads(item)\n",
    "print(record)"
   ]
  },
  {
   "cell_type": "code",
   "execution_count": 3,
   "id": "7eb1f021",
   "metadata": {},
   "outputs": [],
   "source": [
    "# In the above record the quantity of 130 is changed"
   ]
  },
  {
   "cell_type": "code",
   "execution_count": 4,
   "id": "4d39277d",
   "metadata": {},
   "outputs": [],
   "source": [
    "# Adding the item which is already present in the record "
   ]
  },
  {
   "cell_type": "code",
   "execution_count": 13,
   "id": "d75e78a3",
   "metadata": {},
   "outputs": [
    {
     "name": "stdout",
     "output_type": "stream",
     "text": [
      "Enter the Prouct ID: 130\n",
      "Enter the Product Quantity: 2\n",
      "\n",
      "\n",
      "{'101': {'Pd_Name': 'Dairy Milk', 'Pd_Price': 50, 'Pd_GST_amt': 9, 'Pd_Quantity': 21, 'Expiry_Date': '06-10-2021'}, '102': {'Pd_Name': '5star', 'Pd_Price': 10, 'Pd_GST_amt': 1.8, 'Pd_Quantity': 50, 'Expiry_Date': '06-10-2021'}, '103': {'Pd_Name': 'Kit Kat', 'Pd_Price': 25, 'Pd_GST_amt': 4.5, 'Pd_Quantity': 35, 'Expiry_Date': '06-10-2021'}, '104': {'Pd_Name': 'Pen', 'Pd_Price': 5, 'Pd_GST_amt': 0.75, 'Pd_Quantity': 55, 'Expiry_Date': '06-10-2022'}, '105': {'Pd_Name': 'Pencil', 'Pd_Price': 7, 'Pd_GST_amt': 1.05, 'Pd_Quantity': 60, 'Expiry_Date': '06-10-2022'}, '106': {'Pd_Name': 'Pencil', 'Pd_Price': 7, 'Pd_GST_amt': 1.05, 'Pd_Quantity': 60, 'Expiry_Date': '06-10-2022'}, '107': {'Pd_Name': 'Scale', 'Pd_Price': 12, 'Pd_GST_amt': 1.8, 'Pd_Quantity': 35, 'Expiry_Date': '06-10-2022'}, '108': {'Pd_Name': 'Tomato Sauce', 'Pd_Price': 100, 'Pd_GST_amt': 20, 'Pd_Quantity': 20, 'Expiry_Date': '06-10-2021'}, '109': {'Pd_Name': 'Biscuits', 'Pd_Price': 15, 'Pd_GST_amt': 2.7, 'Pd_Quantity': 35, 'Expiry_Date': '06-10-2021'}, '110': {'Pd_Name': 'Salt', 'Pd_Price': 25, 'Pd_GST_amt': 3.75, 'Pd_Quantity': 35, 'Expiry_Date': '06-10-2021'}, '111': {'Pd_Name': 'Pepper Powder', 'Pd_Price': 25, 'Pd_GST_amt': 3.75, 'Pd_Quantity': 25, 'Expiry_Date': '06-10-2021'}, '112': {'Pd_Name': 'Dairy Milk', 'Pd_Price': 25, 'Pd_GST_amt': 4.5, 'Pd_Quantity': 50, 'Expiry_Date': '06-10-2021'}, '113': {'Pd_Name': '5star', 'Pd_Price': 5, 'Pd_GST_amt': 0.75, 'Pd_Quantity': 50, 'Expiry_Date': '06-10-2021'}, '114': {'Pd_Name': 'Kit Kat', 'Pd_Price': 15, 'Pd_GST_amt': 2.7, 'Pd_Quantity': 20, 'Expiry_Date': '06-10-2021'}, '115': {'Pd_Name': 'Chocos', 'Pd_Price': 10, 'Pd_GST_amt': 1.8, 'Pd_Quantity': 25, 'Expiry_Date': '06-10-2021'}, '116': {'Pd_Name': 'Stick Pen', 'Pd_Price': 20, 'Pd_GST_amt': 3.0, 'Pd_Quantity': 25, 'Expiry_Date': '06-10-2022'}, '117': {'Pd_Name': 'Dove Soap', 'Pd_Price': 40, 'Pd_GST_amt': 7.6, 'Pd_Quantity': 15, 'Expiry_Date': '06-05-2022'}, '118': {'Pd_Name': 'Lux Soap', 'Pd_Price': 35, 'Pd_GST_amt': 6.65, 'Pd_Quantity': 15, 'Expiry_Date': '06-05-2022'}, '119': {'Pd_Name': 'Pears Soap', 'Pd_Price': 35, 'Pd_GST_amt': 6.65, 'Pd_Quantity': 0, 'Expiry_Date': '06-05-2022'}, '120': {'Pd_Name': 'Lifeboy Soap', 'Pd_Price': 25, 'Pd_GST_amt': 4.45, 'Pd_Quantity': 5, 'Expiry_Date': '06-05-2022'}, '121': {'Pd_Name': 'Dove Shampoo', 'Pd_Price': 75, 'Pd_GST_amt': 15.75, 'Pd_Quantity': 0, 'Expiry_Date': '06-10-2022'}, '122': {'Pd_Name': 'Tresemme Shampoo', 'Pd_Price': 75, 'Pd_GST_amt': 15.75, 'Pd_Quantity': 3, 'Expiry_Date': '06-10-2022'}, '123': {'Pd_Name': 'Kurkure', 'Pd_Price': 5, 'Pd_GST_amt': 0.25, 'Pd_Quantity': 25, 'Expiry_Date': '06-10-2021'}, '124': {'Pd_Name': 'Lays', 'Pd_Price': 5, 'Pd_GST_amt': 0.25, 'Pd_Quantity': 25, 'Expiry_Date': '06-10-2021'}, '125': {'Pd_Name': 'Ponds Powder', 'Pd_Price': 75, 'Pd_GST_amt': 15.75, 'Pd_Quantity': 2, 'Expiry_Date': '06-10-2022'}, '126': {'Pd_Name': 'Compact Powder', 'Pd_Price': 115, 'Pd_GST_amt': 24.15, 'Pd_Quantity': 0, 'Expiry_Date': '06-10-2022'}, '127': {'Pd_Name': 'Coco Cola', 'Pd_Price': 25, 'Pd_GST_amt': 4.5, 'Pd_Quantity': 5, 'Expiry_Date': '06-06-2022'}, '128': {'Pd_Name': 'Sprite', 'Pd_Price': 35, 'Pd_GST_amt': 6.3, 'Pd_Quantity': 0, 'Expiry_Date': '06-06-2022'}, '129': {'Pd_Name': '7UP', 'Pd_Price': 20, 'Pd_GST_amt': 3.6, 'Pd_Quantity': 5, 'Expiry_Date': '06-06-2022'}, '130': {'Pd_Name': 'Fanta', 'Pd_Price': 40, 'Pd_GST_amt': 7.2, 'Pd_Quantity': 19, 'Expiry_Date': '06-06-2022'}}\n"
     ]
    }
   ],
   "source": [
    "pd_id = input(\"Enter the Prouct ID: \")\n",
    "pd_quantity = int(input(\"Enter the Product Quantity: \"))\n",
    "print(\"\\n\")\n",
    "quantity = record[pd_id]['Pd_Quantity'] + pd_quantity\n",
    "record[pd_id]['Pd_Quantity'] = quantity\n",
    "print(record)"
   ]
  },
  {
   "cell_type": "code",
   "execution_count": 15,
   "id": "d258fb29",
   "metadata": {},
   "outputs": [
    {
     "name": "stdout",
     "output_type": "stream",
     "text": [
      "Enter the Prouct ID: 131\n",
      "Enter the Product Name: Sugar\n",
      "Enter the Product Price: 40\n",
      "Enter the Product GST amount: 3.40\n",
      "Enter the Product Quantity: 10\n",
      "Enter the Expiry Date: 07-12-2021\n",
      "\n",
      "\n",
      "{'101': {'Pd_Name': 'Dairy Milk', 'Pd_Price': 50, 'Pd_GST_amt': 9, 'Pd_Quantity': 21, 'Expiry_Date': '06-10-2021'}, '102': {'Pd_Name': '5star', 'Pd_Price': 10, 'Pd_GST_amt': 1.8, 'Pd_Quantity': 50, 'Expiry_Date': '06-10-2021'}, '103': {'Pd_Name': 'Kit Kat', 'Pd_Price': 25, 'Pd_GST_amt': 4.5, 'Pd_Quantity': 35, 'Expiry_Date': '06-10-2021'}, '104': {'Pd_Name': 'Pen', 'Pd_Price': 5, 'Pd_GST_amt': 0.75, 'Pd_Quantity': 55, 'Expiry_Date': '06-10-2022'}, '105': {'Pd_Name': 'Pencil', 'Pd_Price': 7, 'Pd_GST_amt': 1.05, 'Pd_Quantity': 60, 'Expiry_Date': '06-10-2022'}, '106': {'Pd_Name': 'Pencil', 'Pd_Price': 7, 'Pd_GST_amt': 1.05, 'Pd_Quantity': 60, 'Expiry_Date': '06-10-2022'}, '107': {'Pd_Name': 'Scale', 'Pd_Price': 12, 'Pd_GST_amt': 1.8, 'Pd_Quantity': 35, 'Expiry_Date': '06-10-2022'}, '108': {'Pd_Name': 'Tomato Sauce', 'Pd_Price': 100, 'Pd_GST_amt': 20, 'Pd_Quantity': 20, 'Expiry_Date': '06-10-2021'}, '109': {'Pd_Name': 'Biscuits', 'Pd_Price': 15, 'Pd_GST_amt': 2.7, 'Pd_Quantity': 35, 'Expiry_Date': '06-10-2021'}, '110': {'Pd_Name': 'Salt', 'Pd_Price': 25, 'Pd_GST_amt': 3.75, 'Pd_Quantity': 35, 'Expiry_Date': '06-10-2021'}, '111': {'Pd_Name': 'Pepper Powder', 'Pd_Price': 25, 'Pd_GST_amt': 3.75, 'Pd_Quantity': 25, 'Expiry_Date': '06-10-2021'}, '112': {'Pd_Name': 'Dairy Milk', 'Pd_Price': 25, 'Pd_GST_amt': 4.5, 'Pd_Quantity': 50, 'Expiry_Date': '06-10-2021'}, '113': {'Pd_Name': '5star', 'Pd_Price': 5, 'Pd_GST_amt': 0.75, 'Pd_Quantity': 50, 'Expiry_Date': '06-10-2021'}, '114': {'Pd_Name': 'Kit Kat', 'Pd_Price': 15, 'Pd_GST_amt': 2.7, 'Pd_Quantity': 20, 'Expiry_Date': '06-10-2021'}, '115': {'Pd_Name': 'Chocos', 'Pd_Price': 10, 'Pd_GST_amt': 1.8, 'Pd_Quantity': 25, 'Expiry_Date': '06-10-2021'}, '116': {'Pd_Name': 'Stick Pen', 'Pd_Price': 20, 'Pd_GST_amt': 3.0, 'Pd_Quantity': 25, 'Expiry_Date': '06-10-2022'}, '117': {'Pd_Name': 'Dove Soap', 'Pd_Price': 40, 'Pd_GST_amt': 7.6, 'Pd_Quantity': 15, 'Expiry_Date': '06-05-2022'}, '118': {'Pd_Name': 'Lux Soap', 'Pd_Price': 35, 'Pd_GST_amt': 6.65, 'Pd_Quantity': 15, 'Expiry_Date': '06-05-2022'}, '119': {'Pd_Name': 'Pears Soap', 'Pd_Price': 35, 'Pd_GST_amt': 6.65, 'Pd_Quantity': 0, 'Expiry_Date': '06-05-2022'}, '120': {'Pd_Name': 'Lifeboy Soap', 'Pd_Price': 25, 'Pd_GST_amt': 4.45, 'Pd_Quantity': 5, 'Expiry_Date': '06-05-2022'}, '121': {'Pd_Name': 'Dove Shampoo', 'Pd_Price': 75, 'Pd_GST_amt': 15.75, 'Pd_Quantity': 0, 'Expiry_Date': '06-10-2022'}, '122': {'Pd_Name': 'Tresemme Shampoo', 'Pd_Price': 75, 'Pd_GST_amt': 15.75, 'Pd_Quantity': 3, 'Expiry_Date': '06-10-2022'}, '123': {'Pd_Name': 'Kurkure', 'Pd_Price': 5, 'Pd_GST_amt': 0.25, 'Pd_Quantity': 25, 'Expiry_Date': '06-10-2021'}, '124': {'Pd_Name': 'Lays', 'Pd_Price': 5, 'Pd_GST_amt': 0.25, 'Pd_Quantity': 25, 'Expiry_Date': '06-10-2021'}, '125': {'Pd_Name': 'Ponds Powder', 'Pd_Price': 75, 'Pd_GST_amt': 15.75, 'Pd_Quantity': 2, 'Expiry_Date': '06-10-2022'}, '126': {'Pd_Name': 'Compact Powder', 'Pd_Price': 115, 'Pd_GST_amt': 24.15, 'Pd_Quantity': 0, 'Expiry_Date': '06-10-2022'}, '127': {'Pd_Name': 'Coco Cola', 'Pd_Price': 25, 'Pd_GST_amt': 4.5, 'Pd_Quantity': 5, 'Expiry_Date': '06-06-2022'}, '128': {'Pd_Name': 'Sprite', 'Pd_Price': 35, 'Pd_GST_amt': 6.3, 'Pd_Quantity': 0, 'Expiry_Date': '06-06-2022'}, '129': {'Pd_Name': '7UP', 'Pd_Price': 20, 'Pd_GST_amt': 3.6, 'Pd_Quantity': 5, 'Expiry_Date': '06-06-2022'}, '130': {'Pd_Name': 'Fanta', 'Pd_Price': 40, 'Pd_GST_amt': 7.2, 'Pd_Quantity': 19, 'Expiry_Date': '06-06-2022'}, '131': {'Pd_Name': 'Sugar', 'Pd_Price': 40, 'Pd_GST_amt': 3.4, 'Pd_Quantity': 10, 'Expiry_Date': '07-12-2021'}}\n"
     ]
    }
   ],
   "source": [
    "pd_id = input(\"Enter the Prouct ID: \")\n",
    "pd_name = input(\"Enter the Product Name: \")\n",
    "pd_price = int(input(\"Enter the Product Price: \"))\n",
    "pd_GST_amt = float(input(\"Enter the Product GST amount: \"))\n",
    "pd_quantity = int(input(\"Enter the Product Quantity: \"))\n",
    "expiry_date = input(\"Enter the Expiry Date: \")\n",
    "print(\"\\n\")\n",
    "\n",
    "record[pd_id] = {'Pd_Name': pd_name, 'Pd_Price': pd_price, 'Pd_GST_amt': pd_GST_amt, 'Pd_Quantity': pd_quantity, 'Expiry_Date': expiry_date}\n",
    "print(record)"
   ]
  },
  {
   "cell_type": "code",
   "execution_count": null,
   "id": "dca7d5c4",
   "metadata": {},
   "outputs": [],
   "source": [
    "# In the above record a new item 131 is added\n",
    "\n",
    "\n",
    "# after adding we can change our json file using write function"
   ]
  }
 ],
 "metadata": {
  "kernelspec": {
   "display_name": "Python 3",
   "language": "python",
   "name": "python3"
  },
  "language_info": {
   "codemirror_mode": {
    "name": "ipython",
    "version": 3
   },
   "file_extension": ".py",
   "mimetype": "text/x-python",
   "name": "python",
   "nbconvert_exporter": "python",
   "pygments_lexer": "ipython3",
   "version": "3.8.8"
  }
 },
 "nbformat": 4,
 "nbformat_minor": 5
}
